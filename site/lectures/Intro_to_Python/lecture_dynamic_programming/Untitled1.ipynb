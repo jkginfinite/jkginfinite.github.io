{
 "cells": [
  {
   "cell_type": "markdown",
   "id": "6f5bf553",
   "metadata": {},
   "source": [
    "Top down solution for the maximum score from performing mulitplication operations\n",
    "https://leetcode.com/problems/maximum-score-from-performing-multiplication-operations/\n",
    "Problem\n",
    "\n",
    "You are given two 0-indexed integer arrays nums and multipliers of size n and m respectively, where n >= m.\n",
    "You begin with a score of 0. You want to perform exactly m operations. On the ith operation (0-indexed) you will:\n",
    "Choose one integer x from either the start or the end of the array nums. Add multipliers[i] * x to your score. Note that multipliers[0] corresponds to the first operation, multipliers[1] to the second operation, and so on. Remove x from nums. Return the maximum score after performing m operations.\n",
    "Examples;\n",
    "\n",
    "` Input: nums = [1,2,3], multipliers = [3,2,1] Output: 14 Explanation: An optimal solution is as follows:\n",
    "Choose from the end, [1,2,3], adding 3 * 3 = 9 to the score.\n",
    "Choose from the end, [1,2], adding 2 * 2 = 4 to the score.\n",
    "Choose from the end, [1], adding 1 * 1 = 1 to the score. The total score is 9 + 4 + 1 = 14. `\n",
    "\n",
    "\n",
    "Top down Solution: Memoization\n",
    "\n",
    "We must consider developing an array for which save data for the dynamic programming. The array saves the values of the state variables and the shape of the array is dependent upon the number of state variables.\n",
    "The problem says we must do m operations for ever ith operations. So we have at least two state variables.\n",
    "\n",
    "* Variable i: the index of the multiplier Variable n: the idex of the nums Variable LR: whether we pull from the right or left\n",
    "\n",
    "* Now variable LR can be formed from variable i and n. Why? Because if we know how many elements we have picked from the leftside, left, and we know how many elements we have picked in total, i, then we know that we must have picked i-left elements.\n",
    "\n",
    "* If the total number of nums is n, and the index at any iteration is n-1, then: n-1 = right+(i-left)\n",
    "\n",
    "* So we only need two state variables: i, left;\n",
    "\n",
    "Thus our function is stored in the dyanmic programming array has the structure of dp[i][left]\n",
    "Now that we have our state variables, we should our function return? We do this do define a recurrence relation to transition between states\n",
    "\n",
    "At each transition, we decide whether to take nums[left] or nums[right]. Then we multiply by multipliers[i] and add to the score and remove the value from nums[left] or nums[right] we used.\n",
    "\n",
    "if we choose left (we increment the left): \n",
    "\n",
    "* multipliers[i]*nums[left]+dp(i+1,left+1)\n",
    "if we choose right (we do NOT increment the left)\n",
    "* multipliers[i]*nums[right]+dp(i+1,left)\n",
    "\n",
    "So what should we chose? The one that maximizes.\n",
    "\n",
    "* dp(i,left) = max(multi*nums[left]+dp(i+1,left+1),multi*nums[right]+dp(i+1,left)\n",
    "\n",
    "The base cases: The problem statement says that we need to perform m operations and whenn i==m, we have no operations left so we return 0."
   ]
  },
  {
   "cell_type": "code",
   "execution_count": 1,
   "id": "4e1c81ff",
   "metadata": {},
   "outputs": [],
   "source": [
    "class Solution:\n",
    "    def maximumScore(self,nums,multipliers)->int:\n",
    "        #lru_cache from functools automatically memoizes the function\n",
    "        @lru_cache(2000)\n",
    "        def dp(i,left):\n",
    "            #base case\n",
    "            if i==m:\n",
    "                return 0\n",
    "            multi = multipliers[i]\n",
    "            right = n-1-(i-left)\n",
    "\n",
    "            #recurrence relation\n",
    "            return max(multi*nums[left])+dp(i+1,left+1),multi*nums[right]+d[(i+1,left)]\n",
    "\n",
    "        n,m=len(nums),len(multipliers)\n",
    "        return dp(0,0)"
   ]
  },
  {
   "cell_type": "code",
   "execution_count": null,
   "id": "19b0261c",
   "metadata": {},
   "outputs": [],
   "source": []
  },
  {
   "cell_type": "code",
   "execution_count": 2,
   "id": "30ee87b8",
   "metadata": {},
   "outputs": [],
   "source": [
    "def fibonacci_memo(n):\n",
    "    array = [None]*(n+1)\n",
    "    def fibonacci_top_down(n,array):\n",
    "        if array[n] is not None:\n",
    "            return array[n]\n",
    "        if n in [1,2]:\n",
    "            result=1\n",
    "        else:\n",
    "            result=fibonacci_top_down(n-1,array)+fibonacci_top_down(n-2,array)\n",
    "        array[n]=result\n",
    "        return result\n",
    "    return fibonacci_top_down(n,array)\n"
   ]
  },
  {
   "cell_type": "code",
   "execution_count": null,
   "id": "bc505728",
   "metadata": {},
   "outputs": [],
   "source": []
  }
 ],
 "metadata": {
  "kernelspec": {
   "display_name": "Python 3 (ipykernel)",
   "language": "python",
   "name": "python3"
  },
  "language_info": {
   "codemirror_mode": {
    "name": "ipython",
    "version": 3
   },
   "file_extension": ".py",
   "mimetype": "text/x-python",
   "name": "python",
   "nbconvert_exporter": "python",
   "pygments_lexer": "ipython3",
   "version": "3.9.13"
  }
 },
 "nbformat": 4,
 "nbformat_minor": 5
}

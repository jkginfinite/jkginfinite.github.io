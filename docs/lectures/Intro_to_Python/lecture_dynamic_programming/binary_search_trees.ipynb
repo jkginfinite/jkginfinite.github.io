{
 "cells": [
  {
   "cell_type": "code",
   "execution_count": null,
   "id": "93dfb19b",
   "metadata": {},
   "outputs": [],
   "source": [
    "class Solution:\n",
    "\tdef validPath(self,n,edges,start,end):\n",
    "\t\tadjacency_list = [[] for _ in range(n)]\n",
    "\n",
    "\t\tfor a,b in edges:\n",
    "\t\t\tadjacency_list[a].append(b)\n",
    "\t\t\tadjacency_list[b].append(a)\n",
    "\n",
    "\t\tstack = [start]\n",
    "\t\tseen = set()\n",
    "\n",
    "\t\twhile stack:\n",
    "\t\t\t#get the current node\n",
    "\t\t\tnode=stack.pop()\n",
    "\n",
    "\t\t\t#check if we have reached the target node\n",
    "\t\t\tif node == end:\n",
    "\t\t\t\treturn True\n",
    "\n",
    "\t\t\t#check if we've already visited this node\n",
    "\t\t\tif node in seen:\n",
    "\t\t\t\tcontinue\n",
    "\n",
    "\t\t\tseen.add(node)\n",
    "\n",
    "\t\t\t#add all neighbors to the stack\n",
    "\t\t\tfor neighbor in adjacency_list[node]:\n",
    "\t\t\t\tstack.append(neighbor)\n",
    "\n",
    "\t\treturn False\n",
    "\n",
    "\n",
    "\n",
    "\n",
    "class TreeNode:\n",
    "\tdef __init__(self,data=0,left=None,right=None):\n",
    "\t\tself.data = data\n",
    "\t\tself.left = left\n",
    "\t\tself.right = right\n",
    "\n",
    "class Solution:\n",
    "\tdef isValidBST(self,root):\n",
    "\t\tdef validate(node,low=-math.inf,high=math.inf):\n",
    "\t\t\tif not node:\n",
    "\t\t\t\treturn True\n",
    "\n",
    "\t\t\tif node.val<=low or node.val>=high:\n",
    "\t\t\t\treturn False\n",
    "\n",
    "\t\t\treturn (validate(node.right,node.val,high) and validate(node.left,low,node.val))\n",
    "\n",
    "\t\treturn validate(root)"
   ]
  }
 ],
 "metadata": {
  "kernelspec": {
   "display_name": "Python 3 (ipykernel)",
   "language": "python",
   "name": "python3"
  },
  "language_info": {
   "codemirror_mode": {
    "name": "ipython",
    "version": 3
   },
   "file_extension": ".py",
   "mimetype": "text/x-python",
   "name": "python",
   "nbconvert_exporter": "python",
   "pygments_lexer": "ipython3",
   "version": "3.9.13"
  }
 },
 "nbformat": 4,
 "nbformat_minor": 5
}

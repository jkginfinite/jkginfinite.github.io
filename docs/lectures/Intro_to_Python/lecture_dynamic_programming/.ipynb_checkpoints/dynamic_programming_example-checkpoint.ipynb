{
 "cells": [
  {
   "cell_type": "markdown",
   "id": "84bb7b01",
   "metadata": {},
   "source": [
    "`[1,1,2,3,5,8,13,21]`"
   ]
  },
  {
   "cell_type": "code",
   "execution_count": 1,
   "id": "65d40b60",
   "metadata": {},
   "outputs": [],
   "source": [
    "def fibonacci(n):\n",
    "    if n in [1,2]:\n",
    "        return 1\n",
    "    else:\n",
    "        return fibonacci(n-1)+fibonacci(n-2)"
   ]
  },
  {
   "cell_type": "code",
   "execution_count": 6,
   "id": "ac38abee",
   "metadata": {},
   "outputs": [
    {
     "name": "stdout",
     "output_type": "stream",
     "text": [
      "14 µs ± 227 ns per loop (mean ± std. dev. of 7 runs, 100000 loops each)\n"
     ]
    }
   ],
   "source": [
    "%timeit fibonacci(10)"
   ]
  },
  {
   "cell_type": "code",
   "execution_count": 19,
   "id": "ff291e94",
   "metadata": {},
   "outputs": [
    {
     "name": "stdout",
     "output_type": "stream",
     "text": [
      "CPU times: user 5 µs, sys: 1e+03 ns, total: 6 µs\n",
      "Wall time: 10 µs\n",
      "j=1, fibonnaci(1)= 1\n",
      "\n",
      "\n",
      "CPU times: user 8 µs, sys: 1 µs, total: 9 µs\n",
      "Wall time: 13.1 µs\n",
      "j=5, fibonnaci(5)= 5\n",
      "\n",
      "\n",
      "CPU times: user 34 µs, sys: 1 µs, total: 35 µs\n",
      "Wall time: 41 µs\n",
      "j=10, fibonnaci(10)= 55\n",
      "\n",
      "\n",
      "CPU times: user 2.53 s, sys: 28.9 ms, total: 2.56 s\n",
      "Wall time: 2.67 s\n",
      "j=35, fibonnaci(35)= 9227465\n",
      "\n",
      "\n"
     ]
    }
   ],
   "source": [
    "for j in [1,5,10,35]:\n",
    "    string = 'j={}, fibonnaci({})='.format(j,j)\n",
    "    %time calculation = fibonacci(j)\n",
    "    print(string,calculation)\n",
    "    print('\\n')"
   ]
  },
  {
   "cell_type": "code",
   "execution_count": 14,
   "id": "f9cb7e50",
   "metadata": {},
   "outputs": [],
   "source": [
    "def fibonacci_memoization(n,memo):\n",
    "    if memo[n] is not None:\n",
    "        return memo[n]\n",
    "    if n in [1,2]:\n",
    "        result=1\n",
    "    else:\n",
    "        result=fibonacci_memoization(n-1,memo)+fibonacci_memoization(n-2,memo)\n",
    "    memo[n]=result\n",
    "    return result\n",
    "\n",
    "def fib_memo(n):\n",
    "    memo = [None]*(n+1)\n",
    "    return fibonacci_memoization(n,memo)"
   ]
  },
  {
   "cell_type": "code",
   "execution_count": 25,
   "id": "2776718f",
   "metadata": {},
   "outputs": [
    {
     "name": "stdout",
     "output_type": "stream",
     "text": [
      "CPU times: user 5 µs, sys: 1 µs, total: 6 µs\n",
      "Wall time: 9.06 µs\n",
      "j=1, fib_memo(1)= 1\n",
      "\n",
      "\n",
      "CPU times: user 8 µs, sys: 0 ns, total: 8 µs\n",
      "Wall time: 11 µs\n",
      "j=5, fib_memo(5)= 5\n",
      "\n",
      "\n",
      "CPU times: user 9 µs, sys: 1e+03 ns, total: 10 µs\n",
      "Wall time: 11.9 µs\n",
      "j=10, fib_memo(10)= 55\n",
      "\n",
      "\n",
      "CPU times: user 31 µs, sys: 1e+03 ns, total: 32 µs\n",
      "Wall time: 36 µs\n",
      "j=35, fib_memo(35)= 9227465\n",
      "\n",
      "\n",
      "CPU times: user 50 µs, sys: 1 µs, total: 51 µs\n",
      "Wall time: 55.1 µs\n",
      "j=50, fib_memo(50)= 12586269025\n",
      "\n",
      "\n",
      "CPU times: user 98 µs, sys: 79 µs, total: 177 µs\n",
      "Wall time: 98.7 µs\n",
      "j=100, fib_memo(100)= 354224848179261915075\n",
      "\n",
      "\n"
     ]
    }
   ],
   "source": [
    "for j in [1,5,10,35,50,100]:\n",
    "    string = 'j={}, fib_memo({})='.format(j,j)\n",
    "    %time calculation = fib_memo(j)\n",
    "    print(string,calculation)\n",
    "    print('\\n')"
   ]
  },
  {
   "cell_type": "code",
   "execution_count": 22,
   "id": "9f9f071e",
   "metadata": {},
   "outputs": [],
   "source": [
    "def fib_bottom_up(n):\n",
    "    if n in [1,2]:\n",
    "        return 1\n",
    "    bottom_up = [None]*(n+1)\n",
    "    bottom_up[1]=1\n",
    "    bottom_up[2]=1\n",
    "    for i in range(3,n+1):\n",
    "        bottom_up[i] = bottom_up[i-1]+bottom_up[i-2]\n",
    "    return bottom_up[n]"
   ]
  },
  {
   "cell_type": "code",
   "execution_count": 27,
   "id": "e3e28e42",
   "metadata": {},
   "outputs": [
    {
     "name": "stdout",
     "output_type": "stream",
     "text": [
      "CPU times: user 4 µs, sys: 1 µs, total: 5 µs\n",
      "Wall time: 8.11 µs\n",
      "j=1, fib_bottom_up(1)= 1\n",
      "\n",
      "\n",
      "CPU times: user 8 µs, sys: 0 ns, total: 8 µs\n",
      "Wall time: 11 µs\n",
      "j=5, fib_bottom_up(5)= 5\n",
      "\n",
      "\n",
      "CPU times: user 9 µs, sys: 0 ns, total: 9 µs\n",
      "Wall time: 12.6 µs\n",
      "j=10, fib_bottom_up(10)= 55\n",
      "\n",
      "\n",
      "CPU times: user 20 µs, sys: 1 µs, total: 21 µs\n",
      "Wall time: 26.2 µs\n",
      "j=35, fib_bottom_up(35)= 9227465\n",
      "\n",
      "\n",
      "CPU times: user 26 µs, sys: 2 µs, total: 28 µs\n",
      "Wall time: 34.1 µs\n",
      "j=50, fib_bottom_up(50)= 12586269025\n",
      "\n",
      "\n",
      "CPU times: user 41 µs, sys: 1 µs, total: 42 µs\n",
      "Wall time: 47.9 µs\n",
      "j=100, fib_bottom_up(100)= 354224848179261915075\n",
      "\n",
      "\n"
     ]
    }
   ],
   "source": [
    "for j in [1,5,10,35,50,100]:\n",
    "    string = 'j={}, fib_bottom_up({})='.format(j,j)\n",
    "    %time calculation = fib_bottom_up(j)\n",
    "    print(string,calculation)\n",
    "    print('\\n')"
   ]
  },
  {
   "cell_type": "code",
   "execution_count": 7,
   "id": "72636630",
   "metadata": {},
   "outputs": [],
   "source": [
    "class Solution:\n",
    "    cache={2:2,3:3}\n",
    "    def climbStairs(self, n: int) -> int:\n",
    "        if n<=3:\n",
    "            return self.cache[n]\n",
    "        else:\n",
    "            self.cache[n]= self.cache[n-1]+2\n",
    "            return self.cache[n]\n",
    "        \n",
    "        \n",
    "class Solution:\n",
    "    cache={2:2,3:3}\n",
    "    def climbStairs(self, n: int) -> int:\n",
    "        if n<=3:\n",
    "            return self.cache[n]\n",
    "        else:\n",
    "            self.cache[n]= self.climbStairs(n-1)+2\n",
    "            return self.cache[n]"
   ]
  },
  {
   "cell_type": "code",
   "execution_count": 8,
   "id": "a2d800e8",
   "metadata": {},
   "outputs": [],
   "source": [
    "S = Solution()"
   ]
  },
  {
   "cell_type": "code",
   "execution_count": 3,
   "id": "766b7d61",
   "metadata": {},
   "outputs": [
    {
     "data": {
      "text/plain": [
       "5"
      ]
     },
     "execution_count": 3,
     "metadata": {},
     "output_type": "execute_result"
    }
   ],
   "source": [
    "S.climbStairs(4)"
   ]
  },
  {
   "cell_type": "code",
   "execution_count": 4,
   "id": "b3196a96",
   "metadata": {},
   "outputs": [
    {
     "data": {
      "text/plain": [
       "7"
      ]
     },
     "execution_count": 4,
     "metadata": {},
     "output_type": "execute_result"
    }
   ],
   "source": [
    "S.climbStairs(5)"
   ]
  },
  {
   "cell_type": "code",
   "execution_count": 5,
   "id": "f27984aa",
   "metadata": {},
   "outputs": [
    {
     "data": {
      "text/plain": [
       "9"
      ]
     },
     "execution_count": 5,
     "metadata": {},
     "output_type": "execute_result"
    }
   ],
   "source": [
    "S.climbStairs(6)"
   ]
  },
  {
   "cell_type": "code",
   "execution_count": 13,
   "id": "b4ac54be",
   "metadata": {},
   "outputs": [
    {
     "data": {
      "text/plain": [
       "3997"
      ]
     },
     "execution_count": 13,
     "metadata": {},
     "output_type": "execute_result"
    }
   ],
   "source": [
    "S.climbStairs(2000)"
   ]
  },
  {
   "cell_type": "code",
   "execution_count": 19,
   "id": "f9011bfe",
   "metadata": {},
   "outputs": [],
   "source": [
    "class Solution:\n",
    "    def climbStairs(self, n):\n",
    "        i, fib = 2, [1,1]\n",
    "        if n>1:\n",
    "            while i<=n:\n",
    "                fib.append(fib[i-2]+fib[i-1])\n",
    "                i += 1\n",
    "        return fib[n]"
   ]
  },
  {
   "cell_type": "code",
   "execution_count": 20,
   "id": "9af79868",
   "metadata": {},
   "outputs": [
    {
     "name": "stdout",
     "output_type": "stream",
     "text": [
      "[1, 1]\n"
     ]
    },
    {
     "data": {
      "text/plain": [
       "8"
      ]
     },
     "execution_count": 20,
     "metadata": {},
     "output_type": "execute_result"
    }
   ],
   "source": [
    "s2 = Solution()\n",
    "s2.climbStairs(5)"
   ]
  },
  {
   "cell_type": "code",
   "execution_count": null,
   "id": "3a765276",
   "metadata": {},
   "outputs": [],
   "source": []
  }
 ],
 "metadata": {
  "kernelspec": {
   "display_name": "Python 3 (ipykernel)",
   "language": "python",
   "name": "python3"
  },
  "language_info": {
   "codemirror_mode": {
    "name": "ipython",
    "version": 3
   },
   "file_extension": ".py",
   "mimetype": "text/x-python",
   "name": "python",
   "nbconvert_exporter": "python",
   "pygments_lexer": "ipython3",
   "version": "3.9.7"
  }
 },
 "nbformat": 4,
 "nbformat_minor": 5
}

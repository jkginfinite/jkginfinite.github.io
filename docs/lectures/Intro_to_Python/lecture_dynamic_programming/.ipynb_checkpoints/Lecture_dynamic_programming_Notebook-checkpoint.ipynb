{
 "cells": [
  {
   "cell_type": "markdown",
   "id": "0e87912d",
   "metadata": {},
   "source": [
    "# Advanced programming for AI\n",
    "\n",
    "# Lecture Notebook: Dynamic Programming"
   ]
  },
  {
   "cell_type": "markdown",
   "id": "dc78f448",
   "metadata": {},
   "source": [
    "### Example 1: Evaluate the runtime for the factorial and fibonacci functions for n=50 using `%timeit`"
   ]
  },
  {
   "cell_type": "code",
   "execution_count": 9,
   "id": "2ecc8d6a",
   "metadata": {},
   "outputs": [
    {
     "name": "stdout",
     "output_type": "stream",
     "text": [
      "Factorial(20)=2432902008176640000\n",
      "CPU times: user 283 µs, sys: 141 µs, total: 424 µs\n",
      "Wall time: 364 µs\n",
      "\n",
      "\n",
      "Fibonacci(20)=6765\n",
      "CPU times: user 3.2 ms, sys: 135 µs, total: 3.33 ms\n",
      "Wall time: 3.85 ms\n"
     ]
    }
   ],
   "source": [
    "def Factorial(n):\n",
    "    if n<=1:\n",
    "        return 1\n",
    "    return n*Factorial(n-1)\n",
    "\n",
    "def Fibonacci(n):\n",
    "    if n in [0,1]:\n",
    "        return n\n",
    "    else: \n",
    "        return Fibonacci(n-1)+Fibonacci(n-2)\n",
    "\n",
    "n=20\n",
    "%time print(f'Factorial({n})={Factorial(n)}')\n",
    "print('\\n')\n",
    "%time print(f'Fibonacci({n})={Fibonacci(n)}')"
   ]
  },
  {
   "cell_type": "markdown",
   "id": "b1f21ab9",
   "metadata": {},
   "source": [
    "# Memoization Pseudo code (top down);\n",
    "\n",
    "1. Define an empty array the same size as the number of steps we intend to iterate\n",
    "2. Define a function that accepts the array and a discrete number `n`\n",
    "3. specify the initial conditions, \n",
    "4. if the value of `n` meets the initial conditions, return them\n",
    "5. if theres a saved value for `array[n]`, return that value\n",
    "6. other wise, use the recursion relation with the function in step 2 to calculate the specific value, and save it to an array"
   ]
  },
  {
   "cell_type": "markdown",
   "id": "7f0e39c3",
   "metadata": {},
   "source": [
    "### Example 2: Design the Fibonacci function with memoization (top down) in dynamic programming and evaluate the run time for `n=20`, compare it to the run time WITHOUT memoization"
   ]
  },
  {
   "cell_type": "code",
   "execution_count": 18,
   "id": "2a52a8de",
   "metadata": {},
   "outputs": [
    {
     "name": "stdout",
     "output_type": "stream",
     "text": [
      "fibonacci_memo(20)=6765\n",
      "CPU times: user 437 µs, sys: 182 µs, total: 619 µs\n",
      "Wall time: 523 µs\n",
      "\n",
      "\n",
      "fibonacci(20)=6765\n",
      "CPU times: user 3.16 ms, sys: 243 µs, total: 3.41 ms\n",
      "Wall time: 3.58 ms\n"
     ]
    }
   ],
   "source": [
    "def fibonacci_memo(n):\n",
    "    array = [None]*(n+1)\n",
    "    def fibonacci_top_down(n,array):\n",
    "        if array[n] is not None:\n",
    "            return array[n]\n",
    "        if n in [1,2]:\n",
    "            result=1\n",
    "        else:\n",
    "            result=fibonacci_top_down(n-1,array)+fibonacci_top_down(n-2,array)\n",
    "        array[n]=result\n",
    "        return result\n",
    "    return fibonacci_top_down(n,array)\n",
    "\n",
    "n=20\n",
    "%time print(f'fibonacci_memo({n})={fibonacci_memo(n)}')\n",
    "print('\\n')\n",
    "%time print(f'fibonacci({n})={Fibonacci(n)}')"
   ]
  },
  {
   "cell_type": "markdown",
   "id": "da7778b8",
   "metadata": {},
   "source": [
    "# Bottom up Pseudo Code\n",
    "1. define a function that accepts a discrete number `n`\n",
    "2. define an empty array of size `n+1`\n",
    "3. In the empty `array`, specify the values for initial conditions for `n=0`, `n=1`, etc\n",
    "4. loop through the values between just above the initial condition values (e.g. `n=2`) and to the value of `n+1`\n",
    "5. At each iteration of the loop, perform the recursive calculation using the array values and save it to the array.\n",
    "6. Make the function return the saved value of the array, `array[n]`"
   ]
  },
  {
   "cell_type": "markdown",
   "id": "1982d9b5",
   "metadata": {},
   "source": [
    "### Example 3: Design the Factorial function with bottom up in dynamic programming and evaluate the run time for  the following values of n; `[20,100,1000]` and compare it to the original function.\n",
    "\n",
    "What do these results say about using dynamic programming?"
   ]
  },
  {
   "cell_type": "code",
   "execution_count": 27,
   "id": "65dedc46",
   "metadata": {},
   "outputs": [
    {
     "name": "stdout",
     "output_type": "stream",
     "text": [
      "factorial_bottom_up(20)=2432902008176640000\n",
      "CPU times: user 208 µs, sys: 94 µs, total: 302 µs\n",
      "Wall time: 264 µs\n",
      "\n",
      "\n",
      "factorial(20)=2432902008176640000\n",
      "CPU times: user 64 µs, sys: 21 µs, total: 85 µs\n",
      "Wall time: 89.9 µs\n",
      "\n",
      "\n",
      "factorial_bottom_up(100)=93326215443944152681699238856266700490715968264381621468592963895217599993229915608941463976156518286253697920827223758251185210916864000000000000000000000000\n",
      "CPU times: user 257 µs, sys: 100 µs, total: 357 µs\n",
      "Wall time: 313 µs\n",
      "\n",
      "\n",
      "factorial(100)=93326215443944152681699238856266700490715968264381621468592963895217599993229915608941463976156518286253697920827223758251185210916864000000000000000000000000\n",
      "CPU times: user 62 µs, sys: 15 µs, total: 77 µs\n",
      "Wall time: 69.9 µs\n",
      "\n",
      "\n",
      "factorial_bottom_up(1000)=402387260077093773543702433923003985719374864210714632543799910429938512398629020592044208486969404800479988610197196058631666872994808558901323829669944590997424504087073759918823627727188732519779505950995276120874975462497043601418278094646496291056393887437886487337119181045825783647849977012476632889835955735432513185323958463075557409114262417474349347553428646576611667797396668820291207379143853719588249808126867838374559731746136085379534524221586593201928090878297308431392844403281231558611036976801357304216168747609675871348312025478589320767169132448426236131412508780208000261683151027341827977704784635868170164365024153691398281264810213092761244896359928705114964975419909342221566832572080821333186116811553615836546984046708975602900950537616475847728421889679646244945160765353408198901385442487984959953319101723355556602139450399736280750137837615307127761926849034352625200015888535147331611702103968175921510907788019393178114194545257223865541461062892187960223838971476088506276862967146674697562911234082439208160153780889893964518263243671616762179168909779911903754031274622289988005195444414282012187361745992642956581746628302955570299024324153181617210465832036786906117260158783520751516284225540265170483304226143974286933061690897968482590125458327168226458066526769958652682272807075781391858178889652208164348344825993266043367660176999612831860788386150279465955131156552036093988180612138558600301435694527224206344631797460594682573103790084024432438465657245014402821885252470935190620929023136493273497565513958720559654228749774011413346962715422845862377387538230483865688976461927383814900140767310446640259899490222221765904339901886018566526485061799702356193897017860040811889729918311021171229845901641921068884387121855646124960798722908519296819372388642614839657382291123125024186649353143970137428531926649875337218940694281434118520158014123344828015051399694290153483077644569099073152433278288269864602789864321139083506217095002597389863554277196742822248757586765752344220207573630569498825087968928162753848863396909959826280956121450994871701244516461260379029309120889086942028510640182154399457156805941872748998094254742173582401063677404595741785160829230135358081840096996372524230560855903700624271243416909004153690105933983835777939410970027753472000000000000000000000000000000000000000000000000000000000000000000000000000000000000000000000000000000000000000000000000000000000000000000000000000000000000000000000000000000000000000000000000000000000000000000000000000000000000000000000000000000000\n",
      "CPU times: user 663 µs, sys: 123 µs, total: 786 µs\n",
      "Wall time: 751 µs\n",
      "\n",
      "\n",
      "factorial(1000)=402387260077093773543702433923003985719374864210714632543799910429938512398629020592044208486969404800479988610197196058631666872994808558901323829669944590997424504087073759918823627727188732519779505950995276120874975462497043601418278094646496291056393887437886487337119181045825783647849977012476632889835955735432513185323958463075557409114262417474349347553428646576611667797396668820291207379143853719588249808126867838374559731746136085379534524221586593201928090878297308431392844403281231558611036976801357304216168747609675871348312025478589320767169132448426236131412508780208000261683151027341827977704784635868170164365024153691398281264810213092761244896359928705114964975419909342221566832572080821333186116811553615836546984046708975602900950537616475847728421889679646244945160765353408198901385442487984959953319101723355556602139450399736280750137837615307127761926849034352625200015888535147331611702103968175921510907788019393178114194545257223865541461062892187960223838971476088506276862967146674697562911234082439208160153780889893964518263243671616762179168909779911903754031274622289988005195444414282012187361745992642956581746628302955570299024324153181617210465832036786906117260158783520751516284225540265170483304226143974286933061690897968482590125458327168226458066526769958652682272807075781391858178889652208164348344825993266043367660176999612831860788386150279465955131156552036093988180612138558600301435694527224206344631797460594682573103790084024432438465657245014402821885252470935190620929023136493273497565513958720559654228749774011413346962715422845862377387538230483865688976461927383814900140767310446640259899490222221765904339901886018566526485061799702356193897017860040811889729918311021171229845901641921068884387121855646124960798722908519296819372388642614839657382291123125024186649353143970137428531926649875337218940694281434118520158014123344828015051399694290153483077644569099073152433278288269864602789864321139083506217095002597389863554277196742822248757586765752344220207573630569498825087968928162753848863396909959826280956121450994871701244516461260379029309120889086942028510640182154399457156805941872748998094254742173582401063677404595741785160829230135358081840096996372524230560855903700624271243416909004153690105933983835777939410970027753472000000000000000000000000000000000000000000000000000000000000000000000000000000000000000000000000000000000000000000000000000000000000000000000000000000000000000000000000000000000000000000000000000000000000000000000000000000000000000000000000000000000\n",
      "CPU times: user 988 µs, sys: 101 µs, total: 1.09 ms\n",
      "Wall time: 1.02 ms\n",
      "\n",
      "\n"
     ]
    }
   ],
   "source": [
    "def factorial_bottom_up(n):\n",
    "    bottom_up = [None]*(n+1)\n",
    "    bottom_up[1]=1\n",
    "    for i in range(2,n+1):\n",
    "        bottom_up[i] = i*bottom_up[i-1]\n",
    "    return bottom_up[n]\n",
    "\n",
    "for n in [20,100,1000]:\n",
    "    %time print(f'factorial_bottom_up({n})={factorial_bottom_up(n)}')\n",
    "    print('\\n')\n",
    "    %time print(f'factorial({n})={Factorial(n)}')\n",
    "    print('\\n')"
   ]
  },
  {
   "cell_type": "markdown",
   "id": "88c1d586",
   "metadata": {},
   "source": [
    "# Example 4: Runing Sum\n",
    "\n",
    "Given an array nums. We define a running sum of an array as `runningSum[i] = sum(nums[0]…nums[i])`.\n",
    "\n",
    "Return the running sum of nums.\n",
    "\n",
    "* Reference: https://leetcode.com/problems/running-sum-of-1d-array/\n",
    "\n",
    "e.g. \n",
    "`Input: nums = [1,2,3,4]\n",
    "Output: [1,3,6,10]`\n",
    "    \n",
    "e.g.\n",
    "`\n",
    "Input: nums = [1,1,1,1,1]\n",
    "Output: [1,2,3,4,5]\n",
    "`"
   ]
  },
  {
   "cell_type": "code",
   "execution_count": 4,
   "id": "8c3c2c3b",
   "metadata": {},
   "outputs": [
    {
     "data": {
      "text/plain": [
       "[1, 3, 6, 10]"
      ]
     },
     "execution_count": 4,
     "metadata": {},
     "output_type": "execute_result"
    }
   ],
   "source": [
    "from typing import List\n",
    "def runningSum(nums: List[int]) -> List[int]:\n",
    "    #bottom up approach\n",
    "    n = len(nums)\n",
    "    bottom_up = [None]*(n)\n",
    "    bottom_up[0] = nums[0]\n",
    "    for j in range(1,n):\n",
    "        bottom_up[j] = nums[j]+bottom_up[j-1]\n",
    "    return bottom_up\n",
    "\n",
    "runningSum([1,2,3,4])"
   ]
  },
  {
   "cell_type": "code",
   "execution_count": 9,
   "id": "8f4dfe69",
   "metadata": {},
   "outputs": [
    {
     "data": {
      "text/plain": [
       "[1, 3, 6, 10]"
      ]
     },
     "execution_count": 9,
     "metadata": {},
     "output_type": "execute_result"
    }
   ],
   "source": [
    "def runningSumMemo(nums: List[int]) -> List[int]:\n",
    "        ans = []\n",
    "        def cumsum(ind):\n",
    "            if ind == 0:\n",
    "                return nums[ind]\n",
    "            return nums[ind] + cumsum(ind-1)\n",
    "        for i in range(len(nums)):\n",
    "            ans.append(cumsum(i))\n",
    "        return ans\n",
    "\n",
    "runningSumMemo([1,2,3,4])"
   ]
  },
  {
   "cell_type": "code",
   "execution_count": null,
   "id": "9b57905c",
   "metadata": {},
   "outputs": [],
   "source": []
  }
 ],
 "metadata": {
  "kernelspec": {
   "display_name": "Python 3 (ipykernel)",
   "language": "python",
   "name": "python3"
  },
  "language_info": {
   "codemirror_mode": {
    "name": "ipython",
    "version": 3
   },
   "file_extension": ".py",
   "mimetype": "text/x-python",
   "name": "python",
   "nbconvert_exporter": "python",
   "pygments_lexer": "ipython3",
   "version": "3.9.13"
  }
 },
 "nbformat": 4,
 "nbformat_minor": 5
}
